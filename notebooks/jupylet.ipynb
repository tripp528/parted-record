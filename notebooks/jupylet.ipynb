{
 "cells": [
  {
   "cell_type": "code",
   "execution_count": 1,
   "id": "40ed9fde-c0d7-403f-aa86-591c7131142f",
   "metadata": {},
   "outputs": [],
   "source": [
    "from jupylet.audio.bundle import *"
   ]
  },
  {
   "cell_type": "code",
   "execution_count": 13,
   "id": "33e6ff73-2977-4852-b417-4c7079bdc18c",
   "metadata": {},
   "outputs": [
    {
     "name": "stdout",
     "output_type": "stream",
     "text": [
      "(44100, 1)\n"
     ]
    }
   ],
   "source": [
    "osc = Oscillator('sawtooth')\n",
    "a0 = osc(frames=44100)\n",
    "print(a0.shape)\n",
    "get_plot(a0[:169])\n",
    "sd.play(a0)"
   ]
  },
  {
   "cell_type": "code",
   "execution_count": 12,
   "id": "8f9b2c0c-c4a5-4e76-b68d-13a62036614f",
   "metadata": {},
   "outputs": [],
   "source": []
  }
 ],
 "metadata": {
  "kernelspec": {
   "display_name": "Python 3 (ipykernel)",
   "language": "python",
   "name": "python3"
  },
  "language_info": {
   "codemirror_mode": {
    "name": "ipython",
    "version": 3
   },
   "file_extension": ".py",
   "mimetype": "text/x-python",
   "name": "python",
   "nbconvert_exporter": "python",
   "pygments_lexer": "ipython3",
   "version": "3.9.1"
  }
 },
 "nbformat": 4,
 "nbformat_minor": 5
}

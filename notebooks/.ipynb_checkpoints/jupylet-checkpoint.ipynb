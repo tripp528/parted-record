{
 "cells": [
  {
   "cell_type": "code",
   "execution_count": 1,
   "id": "f5d2e4ee-9a45-4389-a075-7b93077a3e2b",
   "metadata": {},
   "outputs": [],
   "source": [
    "%load_ext autoreload \n",
    "%autoreload 2"
   ]
  },
  {
   "cell_type": "code",
   "execution_count": 2,
   "id": "40ed9fde-c0d7-403f-aa86-591c7131142f",
   "metadata": {},
   "outputs": [],
   "source": [
    "import numpy as np\n",
    "import torch\n",
    "import torchaudio\n",
    "import jupylet.audio.bundle as ja\n",
    "import sounddevice as sd\n",
    "import matplotlib.pyplot as plt\n",
    "import IPython.display as ipd\n",
    "\n",
    "import librosa, librosa.display\n",
    "\n",
    "from ptrd import utils"
   ]
  },
  {
   "cell_type": "code",
   "execution_count": 3,
   "id": "b9dfb78d-90ca-4124-903b-219490296bea",
   "metadata": {},
   "outputs": [
    {
     "data": {
      "text/plain": [
       "array([[-3.40707669e-320],\n",
       "       [-3.99699107e-320],\n",
       "       [-4.59234018e-320],\n",
       "       ...,\n",
       "       [-3.57771026e-132],\n",
       "       [-1.63001660e-132],\n",
       "       [ 2.57801709e-133]])"
      ]
     },
     "execution_count": 3,
     "metadata": {},
     "output_type": "execute_result"
    }
   ],
   "source": [
    "utils.filtered_saw()"
   ]
  },
  {
   "cell_type": "code",
   "execution_count": 13,
   "id": "2ef248b9-060d-4b31-9fe0-6ad323054a90",
   "metadata": {},
   "outputs": [
    {
     "data": {
      "text/plain": [
       "array([[0.],\n",
       "       [0.],\n",
       "       [0.],\n",
       "       ...,\n",
       "       [0.],\n",
       "       [0.],\n",
       "       [0.]])"
      ]
     },
     "execution_count": 13,
     "metadata": {},
     "output_type": "execute_result"
    }
   ],
   "source": [
    "class SynthModel(torch.nn.Module):\n",
    "    def __init__(self):\n",
    "        super().__init__()\n",
    "        self.trainable_norm_cutoff = torch.tensor([0.5], requires_grad=True)\n",
    "        \n",
    "    def forward(self, f0):\n",
    "        cutoff = self.trainable_norm_cutoff * 20000\n",
    "        return utils.filtered_saw(freq=f0, cutoff=cutoff)\n",
    "    \n",
    "\n",
    "model = SynthModel()\n",
    "f0 = 40\n",
    "model(f0)"
   ]
  },
  {
   "cell_type": "code",
   "execution_count": null,
   "id": "7c613c0f-8212-4b32-aa1c-db06cb9ee2d1",
   "metadata": {},
   "outputs": [],
   "source": [
    "    \n",
    "def mae(pred, target): \n",
    "    # mean absolute error for monophonic audio signals \n",
    "    pred = pred.squeeze()\n",
    "    target = target.squeeze()\n",
    "    mae = ((pred - target) ** 2).mean()\n",
    "    return mae\n"
   ]
  }
 ],
 "metadata": {
  "kernelspec": {
   "display_name": "Python 3 (ipykernel)",
   "language": "python",
   "name": "python3"
  },
  "language_info": {
   "codemirror_mode": {
    "name": "ipython",
    "version": 3
   },
   "file_extension": ".py",
   "mimetype": "text/x-python",
   "name": "python",
   "nbconvert_exporter": "python",
   "pygments_lexer": "ipython3",
   "version": "3.9.1"
  }
 },
 "nbformat": 4,
 "nbformat_minor": 5
}
